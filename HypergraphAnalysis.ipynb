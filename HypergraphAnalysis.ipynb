{
 "cells": [
  {
   "cell_type": "code",
   "execution_count": 17,
   "id": "c9bcf8c4",
   "metadata": {},
   "outputs": [],
   "source": [
    "import numpy as np\n",
    "import pandas as pd\n",
    "import matplotlib.pyplot as plt"
   ]
  },
  {
   "cell_type": "code",
   "execution_count": 18,
   "id": "caccc492",
   "metadata": {},
   "outputs": [
    {
     "name": "stdout",
     "output_type": "stream",
     "text": [
      "       Disease signature                          SNPs in Disease signature  \\\n",
      "0    Disease signature 1                     rs7731560, rs237475, rs2904106   \n",
      "1    Disease signature 2                  rs11695478, rs7837321, rs62112949   \n",
      "2    Disease signature 3                  rs11695478, rs7837321, rs66754206   \n",
      "3    Disease signature 4                  rs11695478, rs7837321, rs13047599   \n",
      "4    Disease signature 5                  rs11695478, rs10784508, rs4984526   \n",
      "..                   ...                                                ...   \n",
      "79  Disease signature 80  rs2236212, rs55652946, rs10764325, rs17136255,...   \n",
      "80  Disease signature 81  rs17812116, rs10011047, rs4601136, rs1445326, ...   \n",
      "81  Disease signature 82  rs4920832, rs62584791, rs7134469, rs3785477, r...   \n",
      "82  Disease signature 83  rs35388418, rs4601136, rs116842259, rs1445326,...   \n",
      "83  Disease signature 84  rs62388082, rs2236212, rs10764325, rs17136255,...   \n",
      "\n",
      "                   Genes in Disease signature  \n",
      "0                    AL035685.1, KCNB1, ATP9A  \n",
      "1                          TRAPPC9, LINC00683  \n",
      "2                          TRAPPC9, LINC00683  \n",
      "3                                TRAPPC9, SON  \n",
      "4                       NR2F2-AS1, AC012409.2  \n",
      "..                                        ...  \n",
      "79               ELOVL2, CACNB2, AXIN1, AKAP1  \n",
      "80  SUCLG2-AS1, AC097491.1, AL589740.1, AKAP1  \n",
      "81                     RPS2P25, AKAP1, R3HDM4  \n",
      "82        AC097491.1, AL589740.1, INSC, AKAP1  \n",
      "83               ELOVL2, CACNB2, AXIN1, AKAP1  \n",
      "\n",
      "[84 rows x 3 columns]\n"
     ]
    }
   ],
   "source": [
    "# Read the data from the disease_signature file in the data folder\n",
    "df = pd.read_table('./data/Disease_Signatures_MECFS.tsv',sep='\\t')\n",
    "\n",
    "# Display the dataframe\n",
    "print(df)\n"
   ]
  },
  {
   "cell_type": "code",
   "execution_count": null,
   "id": "d43f2f85",
   "metadata": {},
   "outputs": [],
   "source": []
  }
 ],
 "metadata": {
  "kernelspec": {
   "display_name": "Python 3 (ipykernel)",
   "language": "python",
   "name": "python3"
  },
  "language_info": {
   "codemirror_mode": {
    "name": "ipython",
    "version": 3
   },
   "file_extension": ".py",
   "mimetype": "text/x-python",
   "name": "python",
   "nbconvert_exporter": "python",
   "pygments_lexer": "ipython3",
   "version": "3.11.0"
  }
 },
 "nbformat": 4,
 "nbformat_minor": 5
}
